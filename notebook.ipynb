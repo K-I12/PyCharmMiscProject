{
 "cells": [
  {
   "metadata": {},
   "cell_type": "markdown",
   "source": [
    "# This is a sample Jupyter Notebook\n",
    "\n",
    "Below is an example of a code cell. \n",
    "Put your cursor into the cell and press Shift+Enter to execute it and select the next one, or click 'Run Cell' button.\n",
    "\n",
    "Press Double Shift to search everywhere for classes, files, tool windows, actions, and settings.\n",
    "\n",
    "To learn more about Jupyter Notebooks in PyCharm, see [help](https://www.jetbrains.com/help/pycharm/ipython-notebook-support.html).\n",
    "For an overview of PyCharm, go to Help -> Learn IDE features or refer to [our documentation](https://www.jetbrains.com/help/pycharm/getting-started.html)."
   ],
   "id": "8a77807f92f26ee"
  },
  {
   "metadata": {},
   "cell_type": "code",
   "source": [
    "from random import sample\n",
    "\n",
    "print(\"Hello World!\")\n"
   ],
   "id": "fbc121e30a2defb3",
   "outputs": [],
   "execution_count": null
  },
  {
   "metadata": {},
   "cell_type": "code",
   "source": [
    "import numpy as np\n",
    "import pandas as pd\n",
    "import matplotlib.pyplot as plt"
   ],
   "id": "ace64eea2d4c8cf4",
   "outputs": [],
   "execution_count": null
  },
  {
   "metadata": {},
   "cell_type": "code",
   "source": "df = pd.read_csv(\"Titanic-Dataset.csv\")",
   "id": "60894d755d75360d",
   "outputs": [],
   "execution_count": null
  },
  {
   "metadata": {},
   "cell_type": "code",
   "source": "df.head(10)",
   "id": "f1938a1d35d14cc",
   "outputs": [],
   "execution_count": null
  },
  {
   "metadata": {},
   "cell_type": "code",
   "source": "df.info()",
   "id": "be70b07f9d354f69",
   "outputs": [],
   "execution_count": null
  },
  {
   "metadata": {},
   "cell_type": "code",
   "source": "df.describe()",
   "id": "4be8d147a5669ae",
   "outputs": [],
   "execution_count": null
  },
  {
   "metadata": {},
   "cell_type": "code",
   "source": "df.shape",
   "id": "cb26ce3a3104048f",
   "outputs": [],
   "execution_count": null
  },
  {
   "metadata": {},
   "cell_type": "code",
   "source": "df['Pclass'].unique()",
   "id": "bd65222fb98ea8cf",
   "outputs": [],
   "execution_count": null
  },
  {
   "metadata": {},
   "cell_type": "code",
   "source": "df['Pclass'].value_counts(normalize=True)",
   "id": "bccd5f949d4c77d8",
   "outputs": [],
   "execution_count": null
  },
  {
   "metadata": {},
   "cell_type": "code",
   "source": "df[(df['Pclass'] == 3) | (df['Sex'] == 'female')]",
   "id": "e4ecb38b69960923",
   "outputs": [],
   "execution_count": null
  },
  {
   "metadata": {},
   "cell_type": "code",
   "source": "df[(df['Pclass'] == 3) & (df['Sex'] == 'female')]",
   "id": "331cc2910b4d052c",
   "outputs": [],
   "execution_count": null
  },
  {
   "metadata": {},
   "cell_type": "code",
   "source": "df['Fare'].mean()",
   "id": "53bc1b2dfb5696fe",
   "outputs": [],
   "execution_count": null
  },
  {
   "metadata": {},
   "cell_type": "code",
   "source": [
    "print(df['Fare'].min())\n",
    "print(df['Fare'].max())"
   ],
   "id": "183be0470be6a33c",
   "outputs": [],
   "execution_count": null
  },
  {
   "metadata": {},
   "cell_type": "code",
   "source": "df[df['Fare'] == df['Fare'].max()]",
   "id": "33d26e35db4c7fe4",
   "outputs": [],
   "execution_count": null
  },
  {
   "metadata": {},
   "cell_type": "code",
   "source": "df[df['Fare'] == df['Fare'].min()]",
   "id": "a12cb824ecf13f61",
   "outputs": [],
   "execution_count": null
  },
  {
   "metadata": {},
   "cell_type": "code",
   "source": "correct_df = df[df['Fare'] > 0]",
   "id": "b7d209ee740064dc",
   "outputs": [],
   "execution_count": null
  },
  {
   "metadata": {},
   "cell_type": "code",
   "source": "correct_df.shape",
   "id": "8079abef1b25c84d",
   "outputs": [],
   "execution_count": null
  },
  {
   "metadata": {},
   "cell_type": "code",
   "source": "correct_df['Fare'].min()",
   "id": "cf0ddce21207846d",
   "outputs": [],
   "execution_count": null
  },
  {
   "metadata": {},
   "cell_type": "code",
   "source": "correct_df[(correct_df['Fare'] > 4) & (correct_df['Fare'] < 5)]",
   "id": "d79ff9c7d5c9c23d",
   "outputs": [],
   "execution_count": null
  },
  {
   "metadata": {},
   "cell_type": "markdown",
   "source": [
    "Генеральная совокупность - совокупность всех возможных наблюдений относительно которых предлагается сделать выбор.\n",
    "\n",
    "Выборка - часть генеральной совокупности, которая была охвачена сбором данных."
   ],
   "id": "6b0372324954f387"
  },
  {
   "metadata": {},
   "cell_type": "markdown",
   "source": "# Биномияльный тест",
   "id": "14376e7778f8181b"
  },
  {
   "metadata": {},
   "cell_type": "code",
   "source": "from scipy.stats import binomtest",
   "id": "28e4dc840a18801b",
   "outputs": [],
   "execution_count": null
  },
  {
   "metadata": {},
   "cell_type": "code",
   "source": "df = pd.read_csv(\"bestsellers with categories.csv\")",
   "id": "d39d370209cbd8",
   "outputs": [],
   "execution_count": null
  },
  {
   "metadata": {},
   "cell_type": "code",
   "source": "df.info",
   "id": "473f556d68f1ab4a",
   "outputs": [],
   "execution_count": null
  },
  {
   "metadata": {},
   "cell_type": "code",
   "source": "df.head(10)",
   "id": "3c4dd83cefc924c2",
   "outputs": [],
   "execution_count": null
  },
  {
   "metadata": {},
   "cell_type": "code",
   "source": "df['Genre'].unique()",
   "id": "9cf541f4826e93e3",
   "outputs": [],
   "execution_count": null
  },
  {
   "metadata": {},
   "cell_type": "code",
   "source": "bins = df['Genre'].value_counts().tolist()",
   "id": "b74ecde45d874d2d",
   "outputs": [],
   "execution_count": null
  },
  {
   "metadata": {},
   "cell_type": "code",
   "source": "print(bins)",
   "id": "fc0241d6d14328d2",
   "outputs": [],
   "execution_count": null
  },
  {
   "metadata": {},
   "cell_type": "code",
   "source": "binomtest(310, 550)",
   "id": "52f491008bfc2976",
   "outputs": [],
   "execution_count": null
  },
  {
   "metadata": {},
   "cell_type": "markdown",
   "source": [
    "Т-тест\n",
    "параметрический\n",
    "есть ли различие в наблюдениях межде двумя группами наблюдений\n",
    "Данны две переменны - по одной"
   ],
   "id": "27d5df0269667a6f"
  },
  {
   "metadata": {},
   "cell_type": "code",
   "source": [
    "means_fic = []\n",
    "n = 1\n",
    "\n",
    "while n < 500:\n",
    "    n += 1\n",
    "    sample = df[df['Genre'] == 'Non Fiction'].sample(100)['User Rating'].mean()\n",
    "    means_fic.append(sample)"
   ],
   "id": "2b2acb95e064c53",
   "outputs": [],
   "execution_count": null
  },
  {
   "metadata": {},
   "cell_type": "markdown",
   "source": "# Критерие Шапиро",
   "id": "d111bd71a9d577b8"
  },
  {
   "metadata": {},
   "cell_type": "code",
   "source": "from scipy.stats import shapiro",
   "id": "ee959b42df30d996",
   "outputs": [],
   "execution_count": null
  },
  {
   "metadata": {},
   "cell_type": "code",
   "source": "shapiro(means_fic)",
   "id": "e409a42740d42f7c",
   "outputs": [],
   "execution_count": null
  },
  {
   "metadata": {},
   "cell_type": "code",
   "source": [
    "means_fic = []\n",
    "n = 1\n",
    "\n",
    "while n < 500:\n",
    "    n += 1\n",
    "    sample = df[df['Genre'] == 'Fiction'].sample(100)['User Rating'].mean()\n",
    "    means_fic.append(sample)"
   ],
   "id": "8f10767fb4a78d79",
   "outputs": [],
   "execution_count": null
  },
  {
   "metadata": {},
   "cell_type": "code",
   "source": "shapiro(means_fic)",
   "id": "be18b14a52170f2d",
   "outputs": [],
   "execution_count": null
  },
  {
   "metadata": {},
   "cell_type": "markdown",
   "source": "# Критерие Леневе",
   "id": "c1e1d937db1c4e1a"
  },
  {
   "metadata": {},
   "cell_type": "code",
   "source": [
    "from scipy.stats import levene\n",
    "\n",
    "user_rating_fic = df[df['Genre'] == 'Fiction'].sample(100)['User Rating']\n",
    "user_rating_non = df[df['Genre'] == 'Non Fiction'].sample(100)['User Rating']"
   ],
   "id": "68bdab5a0aafbbfc",
   "outputs": [],
   "execution_count": null
  },
  {
   "metadata": {},
   "cell_type": "code",
   "source": "user_rating_fic.head(5)",
   "id": "7d747d182edfdf05",
   "outputs": [],
   "execution_count": null
  },
  {
   "metadata": {},
   "cell_type": "code",
   "source": "levene(user_rating_non, user_rating_fic)",
   "id": "325d6b0d193cad89",
   "outputs": [],
   "execution_count": null
  },
  {
   "metadata": {},
   "cell_type": "code",
   "source": "from scipy.stats import ttest_ind",
   "id": "83121fa7269b7951",
   "outputs": [],
   "execution_count": null
  },
  {
   "metadata": {},
   "cell_type": "code",
   "source": "ttest_ind(user_rating_fic, user_rating_non, equal_var=True)",
   "id": "b26c4743548416ef",
   "outputs": [],
   "execution_count": null
  },
  {
   "metadata": {},
   "cell_type": "code",
   "source": [
    "print(user_rating_fic.mean())\n",
    "print(user_rating_non.mean())"
   ],
   "id": "20c413a104eded3c",
   "outputs": [],
   "execution_count": null
  },
  {
   "metadata": {},
   "cell_type": "markdown",
   "source": "Новый тест ANOVA",
   "id": "3538922b78ef38a8"
  },
  {
   "metadata": {},
   "cell_type": "code",
   "source": "from scipy.stats import f_oneway",
   "id": "264e3bf79dabb0fc",
   "outputs": [],
   "execution_count": null
  },
  {
   "metadata": {},
   "cell_type": "code",
   "source": [
    "ur_2019 = df[(df['Year'] == 2019)]['User Rating']\n",
    "ur_2018 = df[(df['Year'] == 2018)]['User Rating']\n",
    "ur_2017 = df[(df['Year'] == 2017)]['User Rating']"
   ],
   "id": "34d05cfd982dd635",
   "outputs": [],
   "execution_count": null
  },
  {
   "metadata": {},
   "cell_type": "code",
   "source": [
    "means_fic_2019 = []\n",
    "n = 1\n",
    "\n",
    "while n < 100:\n",
    "    n += 1\n",
    "    sample = df[df['Year'] == 2019].sample(10)['User Rating'].mean()\n",
    "    means_fic_2019.append(sample)\n",
    "\n",
    "shapiro(means_fic_2019)"
   ],
   "id": "a71e3ea59a7654f5",
   "outputs": [],
   "execution_count": null
  },
  {
   "metadata": {},
   "cell_type": "code",
   "source": [
    "means_fic_2018 = []\n",
    "n = 1\n",
    "\n",
    "while n < 100:\n",
    "    n += 1\n",
    "    sample = df[df['Year'] == 2018].sample(10)['User Rating'].mean()\n",
    "    means_fic_2018.append(sample)\n",
    "\n",
    "shapiro(means_fic_2018)"
   ],
   "id": "7d925ef6f93086b6",
   "outputs": [],
   "execution_count": null
  },
  {
   "metadata": {},
   "cell_type": "code",
   "source": [
    "means_fic_2017 = []\n",
    "n = 1\n",
    "\n",
    "while n < 100:\n",
    "    n += 1\n",
    "    sample = df[df['Year'] == 2017].sample(10)['User Rating'].mean()\n",
    "    means_fic_2017.append(sample)\n",
    "\n",
    "shapiro(means_fic_2017)"
   ],
   "id": "89a2b40205e68cf5",
   "outputs": [],
   "execution_count": null
  },
  {
   "metadata": {},
   "cell_type": "code",
   "source": [
    "print(ur_2019.mean())\n",
    "print(ur_2018.mean())\n",
    "print(ur_2017.mean())"
   ],
   "id": "35b015e60ef74636",
   "outputs": [],
   "execution_count": null
  },
  {
   "metadata": {},
   "cell_type": "code",
   "source": "levene(ur_2019, ur_2018, ur_2017)",
   "id": "ea89c0c43fb7ceb2",
   "outputs": [],
   "execution_count": null
  },
  {
   "metadata": {},
   "cell_type": "code",
   "source": "f_oneway(ur_2019, ur_2018, ur_2017)",
   "id": "64ad5c4ee2bae8c5",
   "outputs": [],
   "execution_count": null
  },
  {
   "metadata": {},
   "cell_type": "code",
   "source": [
    "ur_2019 = df[(df['Year'] == 2019)].sample(10)['User Rating']\n",
    "ur_2018 = df[(df['Year'] == 2018)].sample(10)['User Rating']\n",
    "ur_2017 = df[(df['Year'] == 2017)].sample(10)['User Rating']"
   ],
   "id": "5de996a0be473e5b",
   "outputs": [],
   "execution_count": null
  },
  {
   "metadata": {},
   "cell_type": "code",
   "source": [
    "means_fic_2019 = []\n",
    "n = 1\n",
    "\n",
    "while n < 100:\n",
    "    n += 1\n",
    "    sample = df[df['Year'] == 2019].sample(10)['User Rating'].mean()\n",
    "    means_fic_2019.append(sample)\n",
    "\n",
    "shapiro(means_fic_2019)"
   ],
   "id": "c4460aaead051bec",
   "outputs": [],
   "execution_count": null
  },
  {
   "metadata": {},
   "cell_type": "code",
   "source": [
    "means_fic_2018 = []\n",
    "n = 1\n",
    "\n",
    "while n < 100:\n",
    "    n += 1\n",
    "    sample = df[df['Year'] == 2018].sample(10)['User Rating'].mean()\n",
    "    means_fic_2018.append(sample)\n",
    "\n",
    "shapiro(means_fic_2018)"
   ],
   "id": "e32adb800c34ae59",
   "outputs": [],
   "execution_count": null
  },
  {
   "metadata": {},
   "cell_type": "code",
   "source": [
    "means_fic_2017 = []\n",
    "n = 1\n",
    "\n",
    "while n < 100:\n",
    "    n += 1\n",
    "    sample = df[df['Year'] == 2017].sample(10)['User Rating'].mean()\n",
    "    means_fic_2017.append(sample)\n",
    "\n",
    "shapiro(means_fic_2017)"
   ],
   "id": "7f97063ad4e36c0c",
   "outputs": [],
   "execution_count": null
  },
  {
   "metadata": {},
   "cell_type": "code",
   "source": "levene(ur_2019, ur_2018, ur_2017)",
   "id": "9212b291baa8445d",
   "outputs": [],
   "execution_count": null
  },
  {
   "metadata": {},
   "cell_type": "code",
   "source": "f_oneway(ur_2019, ur_2018, ur_2017)",
   "id": "9170483e7d959be7",
   "outputs": [],
   "execution_count": null
  },
  {
   "metadata": {},
   "cell_type": "markdown",
   "source": "# Д/З 14.05.2025",
   "id": "f1146f721a8667f0"
  },
  {
   "metadata": {},
   "cell_type": "code",
   "source": "",
   "id": "f65eee29c6cc4124",
   "outputs": [],
   "execution_count": null
  },
  {
   "metadata": {},
   "cell_type": "markdown",
   "source": "# 15.05.2025",
   "id": "16dc2a9c6340b83c"
  },
  {
   "metadata": {},
   "cell_type": "markdown",
   "source": "## Хи-квадрат",
   "id": "c8b2bc80aaf40197"
  },
  {
   "metadata": {},
   "cell_type": "markdown",
   "source": "Степень свободы - число значений переменной в виборке которые необходимо знать чтоб вычислить статистику.",
   "id": "247542b0bf312a48"
  },
  {
   "metadata": {},
   "cell_type": "code",
   "source": [
    "from  scipy.stats import chisquare\n",
    "import numpy as np\n",
    "import pandas as pd\n",
    "import matplotlib.pyplot as plt\n",
    "import math"
   ],
   "id": "9b37ce4e756a5d7f",
   "outputs": [],
   "execution_count": null
  },
  {
   "metadata": {},
   "cell_type": "code",
   "source": "chisquare([20, 30, 50, 25], f_exp = [28, 22, 42, 33])",
   "id": "fe5f77bbd491ebe9",
   "outputs": [],
   "execution_count": null
  },
  {
   "metadata": {},
   "cell_type": "markdown",
   "source": "Пример:",
   "id": "bfc28fd28ca29c05"
  },
  {
   "metadata": {},
   "cell_type": "code",
   "source": "df = pd.read_csv(\"Titanic-Dataset.csv\")",
   "id": "506aa03416d42c36",
   "outputs": [],
   "execution_count": null
  },
  {
   "metadata": {},
   "cell_type": "code",
   "source": "df.head(891)",
   "id": "bbcb3795b46eb648",
   "outputs": [],
   "execution_count": null
  },
  {
   "metadata": {},
   "cell_type": "code",
   "source": [
    "cross_tab = pd.crosstab(df['Pclass'], df['Survived'])\n",
    "print (cross_tab)"
   ],
   "id": "5b167a31931ee33a",
   "outputs": [],
   "execution_count": null
  },
  {
   "metadata": {},
   "cell_type": "code",
   "source": "chisquare([80, 136, 97, 87, 372, 119], f_exp = [133, 83, 113, 70, 303, 189])",
   "id": "a253c52173a6fe2f",
   "outputs": [],
   "execution_count": null
  },
  {
   "metadata": {},
   "cell_type": "markdown",
   "source": "Примеры:",
   "id": "3e1701ce276a60aa"
  },
  {
   "metadata": {},
   "cell_type": "code",
   "source": [
    "import pandas as pd\n",
    "import plotly.express as px\n",
    "from plotly.offline import init_notebook_mode\n",
    "init_notebook_mode()"
   ],
   "id": "b0065767515dedbe",
   "outputs": [],
   "execution_count": null
  },
  {
   "metadata": {},
   "cell_type": "code",
   "source": [
    "heart = pd.read_csv(\"heart.csv\")\n",
    "covid = pd.read_csv(\"covid_19_data.csv\")\n",
    "co2 = pd.read_csv(\"co2_emission.csv\")\n",
    "house = pd.read_csv(\"train.csv\")"
   ],
   "id": "e2f734e645940cf8",
   "outputs": [],
   "execution_count": null
  },
  {
   "metadata": {},
   "cell_type": "code",
   "source": "heart.head()",
   "id": "6f109cc0328dff4b",
   "outputs": [],
   "execution_count": null
  },
  {
   "metadata": {},
   "cell_type": "markdown",
   "source": "# px.scatter",
   "id": "c265c4c2e76f0108"
  },
  {
   "metadata": {},
   "cell_type": "code",
   "source": "fig = px.scatter(heart, x = 'trestbps', y = 'chol', color = 'target', title = \"Холестерин и давление\", template = \"ggplot2\")",
   "id": "acf705116fb4590a",
   "outputs": [],
   "execution_count": null
  },
  {
   "metadata": {},
   "cell_type": "code",
   "source": "fig.show()",
   "id": "7e7c0d63d6a8bc35",
   "outputs": [],
   "execution_count": null
  },
  {
   "metadata": {},
   "cell_type": "markdown",
   "source": "# px.scatter",
   "id": "5fb8b0735d5504fc"
  },
  {
   "metadata": {},
   "cell_type": "code",
   "source": "fig = px.scatter(heart, x = 'trestbps', y = 'chol', color = 'target', title = \"Trestbps and chol\", facet_col = 'sex', template = \"ggplot2\")",
   "id": "f40575cbf0db182",
   "outputs": [],
   "execution_count": null
  },
  {
   "metadata": {},
   "cell_type": "code",
   "source": "fig.show()",
   "id": "96f1a899be628db2",
   "outputs": [],
   "execution_count": null
  },
  {
   "metadata": {},
   "cell_type": "markdown",
   "source": [
    "# px.line\n",
    "Непрерывные данные по у. Непрерывные данные по х."
   ],
   "id": "8233bb229072aa6f"
  },
  {
   "metadata": {},
   "cell_type": "code",
   "source": "fig = px.line(co2[co2['Entity'] == 'Tajikistan'], x = 'Year', y = 'Annual CO₂ emissions (tonnes )', title = 'CO2 emmision in Tajikistan')",
   "id": "baeb5218652e59bf",
   "outputs": [],
   "execution_count": null
  },
  {
   "metadata": {},
   "cell_type": "code",
   "source": "fig.show()",
   "id": "5ecaa18326ff3585",
   "outputs": [],
   "execution_count": null
  },
  {
   "metadata": {},
   "cell_type": "markdown",
   "source": [
    "# px.bar\n",
    "Непрерывные данные по у. Котегориялные данные по х."
   ],
   "id": "24a8fe66c24793ec"
  },
  {
   "metadata": {},
   "cell_type": "code",
   "source": "covidCases = pd.DataFrame(covid.groupby('Country/Region')['Confirmed'].sum()).reset_index()",
   "id": "fd97107bf232f51e",
   "outputs": [],
   "execution_count": null
  },
  {
   "metadata": {},
   "cell_type": "code",
   "source": "covidCases = covidCases.sort_values(by = 'Confirmed', ascending = False)",
   "id": "eb5e24b287ddb168",
   "outputs": [],
   "execution_count": null
  },
  {
   "metadata": {},
   "cell_type": "code",
   "source": "fig = px.bar(covidCases.iloc[:50], x = 'Country/Region', y = 'Confirmed', title = 'Top 50 covid country')",
   "id": "d8c968c04ccb3ae5",
   "outputs": [],
   "execution_count": null
  },
  {
   "metadata": {},
   "cell_type": "code",
   "source": "fig.show()",
   "id": "7bf930d4aba0c545",
   "outputs": [],
   "execution_count": null
  },
  {
   "metadata": {},
   "cell_type": "markdown",
   "source": [
    "# px.pie\n",
    "Круг"
   ],
   "id": "6122f1cd8c0e2d8a"
  },
  {
   "metadata": {},
   "cell_type": "code",
   "source": [
    "fig = px.pie(heart, names = 'slope', color_discrete_sequence = px.colors.sequential.Inferno, title = 'Pie chart example')\n",
    "fig.show()"
   ],
   "id": "a0d42c1b990bcc7f",
   "outputs": [],
   "execution_count": null
  },
  {
   "metadata": {},
   "cell_type": "markdown",
   "source": [
    "# px.pie\n",
    "с дыркой"
   ],
   "id": "b3a77a4fc8957773"
  },
  {
   "metadata": {},
   "cell_type": "code",
   "source": [
    "fig = px.pie(heart, names = 'slope', color_discrete_sequence = px.colors.sequential.Inferno, title = 'Pie chart example', hole = 0.5)\n",
    "fig.show()"
   ],
   "id": "9f557375e191b1a8",
   "outputs": [],
   "execution_count": null
  }
 ],
 "metadata": {
  "kernelspec": {
   "display_name": "Python 3",
   "language": "python",
   "name": "python3"
  },
  "language_info": {
   "codemirror_mode": {
    "name": "ipython",
    "version": 2
   },
   "file_extension": ".py",
   "mimetype": "text/x-python",
   "name": "python",
   "nbconvert_exporter": "python",
   "pygments_lexer": "ipython2",
   "version": "2.7.6"
  }
 },
 "nbformat": 4,
 "nbformat_minor": 5
}
